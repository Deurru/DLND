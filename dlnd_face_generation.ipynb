{
  "nbformat": 4,
  "nbformat_minor": 0,
  "metadata": {
    "colab": {
      "name": "dlnd_face_generation.ipynb",
      "version": "0.3.2",
      "provenance": [],
      "collapsed_sections": [],
      "toc_visible": true,
      "include_colab_link": true
    },
    "language_info": {
      "codemirror_mode": {
        "name": "ipython",
        "version": 3
      },
      "file_extension": ".py",
      "mimetype": "text/x-python",
      "name": "python",
      "nbconvert_exporter": "python",
      "pygments_lexer": "ipython3",
      "version": "3.6.3"
    },
    "kernelspec": {
      "name": "python3",
      "display_name": "Python 3"
    },
    "accelerator": "GPU"
  },
  "cells": [
    {
      "cell_type": "markdown",
      "metadata": {
        "id": "view-in-github",
        "colab_type": "text"
      },
      "source": [
        "<a href=\"https://colab.research.google.com/github/Deurru/DLND/blob/master/dlnd_face_generation.ipynb\" target=\"_parent\"><img src=\"https://colab.research.google.com/assets/colab-badge.svg\" alt=\"Open In Colab\"/></a>"
      ]
    },
    {
      "cell_type": "markdown",
      "metadata": {
        "id": "F-NqLQxOuGy8",
        "colab_type": "text"
      },
      "source": [
        "# Face Generation\n",
        "\n",
        "In this project, you'll define and train a DCGAN on a dataset of faces. Your goal is to get a generator network to generate *new* images of faces that look as realistic as possible!\n",
        "\n",
        "The project will be broken down into a series of tasks from **loading in data to defining and training adversarial networks**. At the end of the notebook, you'll be able to visualize the results of your trained Generator to see how it performs; your generated samples should look like fairly realistic faces with small amounts of noise.\n",
        "\n",
        "### Get the Data\n",
        "\n",
        "You'll be using the [CelebFaces Attributes Dataset (CelebA)](http://mmlab.ie.cuhk.edu.hk/projects/CelebA.html) to train your adversarial networks.\n",
        "\n",
        "This dataset is more complex than the number datasets (like MNIST or SVHN) you've been working with, and so, you should prepare to define deeper networks and train them for a longer time to get good results. It is suggested that you utilize a GPU for training.\n",
        "\n",
        "### Pre-processed Data\n",
        "\n",
        "Since the project's main focus is on building the GANs, we've done *some* of the pre-processing for you. Each of the CelebA images has been cropped to remove parts of the image that don't include a face, then resized down to 64x64x3 NumPy images. Some sample data is show below.\n",
        "\n",
        "<img src='assets/processed_face_data.png' width=60% />\n",
        "\n",
        "> If you are working locally, you can download this data [by clicking here](https://s3.amazonaws.com/video.udacity-data.com/topher/2018/November/5be7eb6f_processed-celeba-small/processed-celeba-small.zip)\n",
        "\n",
        "This is a zip file that you'll need to extract in the home directory of this notebook for further loading and processing. After extracting the data, you should be left with a directory of data `processed_celeba_small/`"
      ]
    },
    {
      "cell_type": "code",
      "metadata": {
        "id": "HbE-EZ1nvUm7",
        "colab_type": "code",
        "outputId": "93ed3ce2-e1c3-463b-b8ab-fc13e61daeb1",
        "colab": {
          "base_uri": "https://localhost:8080/",
          "height": 329
        }
      },
      "source": [
        "# get remote-hosted zipfile\n",
        "\n",
        "!test ! -e processed_celeba_small && wget -c https://s3.amazonaws.com/video.udacity-data.com/topher/2018/November/5be7eb6f_processed-celeba-small/processed-celeba-small.zip\n",
        "\n",
        "# unzip file\n",
        "!unzip -qq processed-celeba-small.zip\n",
        "\n",
        "# Search for git repo and if not existing (! -e) clone it\n",
        "\n",
        "!test ! -e deep-learning-v2-pytorch && git clone https://github.com/udacity/deep-learning-v2-pytorch.git\n",
        "\n",
        "# Move project contents to /content, so they are accessible\n",
        "\n",
        "!mv deep-learning-v2-pytorch/project-face-generation/* /content \n",
        "\n",
        "# remove unnecessary files, save space!\n",
        "!test -e __MACOSX && rm -r __MACOSX*\n",
        "!rm -r processed-celeba-small.zip\n",
        "!rm -r deep-learning-v2-pytorch\n",
        "# !rm -r README.md"
      ],
      "execution_count": 0,
      "outputs": [
        {
          "output_type": "stream",
          "text": [
            "--2019-06-14 07:40:34--  https://s3.amazonaws.com/video.udacity-data.com/topher/2018/November/5be7eb6f_processed-celeba-small/processed-celeba-small.zip\n",
            "Resolving s3.amazonaws.com (s3.amazonaws.com)... 52.216.104.229\n",
            "Connecting to s3.amazonaws.com (s3.amazonaws.com)|52.216.104.229|:443... connected.\n",
            "HTTP request sent, awaiting response... 200 OK\n",
            "Length: 247694507 (236M) [application/zip]\n",
            "Saving to: ‘processed-celeba-small.zip’\n",
            "\n",
            "processed-celeba-sm 100%[===================>] 236.22M  72.8MB/s    in 3.2s    \n",
            "\n",
            "2019-06-14 07:40:42 (72.8 MB/s) - ‘processed-celeba-small.zip’ saved [247694507/247694507]\n",
            "\n",
            "Cloning into 'deep-learning-v2-pytorch'...\n",
            "remote: Enumerating objects: 1078, done.\u001b[K\n",
            "remote: Total 1078 (delta 0), reused 0 (delta 0), pack-reused 1078\n",
            "Receiving objects: 100% (1078/1078), 138.73 MiB | 30.74 MiB/s, done.\n",
            "Resolving deltas: 100% (466/466), done.\n",
            "Checking out files: 100% (270/270), done.\n"
          ],
          "name": "stdout"
        }
      ]
    },
    {
      "cell_type": "code",
      "metadata": {
        "id": "2Y39f_O5uGzD",
        "colab_type": "code",
        "colab": {}
      },
      "source": [
        "# can comment out after executing\n",
        "# !unzip processed_celeba_small.zip"
      ],
      "execution_count": 0,
      "outputs": []
    },
    {
      "cell_type": "code",
      "metadata": {
        "id": "VqMKNJPYuGzQ",
        "colab_type": "code",
        "colab": {}
      },
      "source": [
        "data_dir = 'processed_celeba_small/'\n",
        "\n",
        "\"\"\"\n",
        "DON'T MODIFY ANYTHING IN THIS CELL\n",
        "\"\"\"\n",
        "import pickle as pkl\n",
        "import matplotlib.pyplot as plt\n",
        "import numpy as np\n",
        "import problem_unittests as tests\n",
        "#import helper\n",
        "\n",
        "%matplotlib inline"
      ],
      "execution_count": 0,
      "outputs": []
    },
    {
      "cell_type": "markdown",
      "metadata": {
        "id": "E-LmDFIouGzY",
        "colab_type": "text"
      },
      "source": [
        "## Visualize the CelebA Data\n",
        "\n",
        "The [CelebA](http://mmlab.ie.cuhk.edu.hk/projects/CelebA.html) dataset contains over 200,000 celebrity images with annotations. Since you're going to be generating faces, you won't need the annotations, you'll only need the images. Note that these are color images with [3 color channels (RGB)](https://en.wikipedia.org/wiki/Channel_(digital_image)#RGB_Images) each.\n",
        "\n",
        "### Pre-process and Load the Data\n",
        "\n",
        "Since the project's main focus is on building the GANs, we've done *some* of the pre-processing for you. Each of the CelebA images has been cropped to remove parts of the image that don't include a face, then resized down to 64x64x3 NumPy images. This *pre-processed* dataset is a smaller subset of the very large CelebA data.\n",
        "\n",
        "> There are a few other steps that you'll need to **transform** this data and create a **DataLoader**.\n",
        "\n",
        "#### Exercise: Complete the following `get_dataloader` function, such that it satisfies these requirements:\n",
        "\n",
        "* Your images should be square, Tensor images of size `image_size x image_size` in the x and y dimension.\n",
        "* Your function should return a DataLoader that shuffles and batches these Tensor images.\n",
        "\n",
        "#### ImageFolder\n",
        "\n",
        "To create a dataset given a directory of images, it's recommended that you use PyTorch's [ImageFolder](https://pytorch.org/docs/stable/torchvision/datasets.html#imagefolder) wrapper, with a root directory `processed_celeba_small/` and data transformation passed in."
      ]
    },
    {
      "cell_type": "code",
      "metadata": {
        "id": "aejDzMQ1uGzb",
        "colab_type": "code",
        "colab": {}
      },
      "source": [
        "# necessary imports\n",
        "import torch\n",
        "from torchvision import datasets\n",
        "from torchvision import transforms\n",
        "from torch.utils.data import DataLoader"
      ],
      "execution_count": 0,
      "outputs": []
    },
    {
      "cell_type": "code",
      "metadata": {
        "id": "Z8IMopHFuGzl",
        "colab_type": "code",
        "colab": {}
      },
      "source": [
        "def get_dataloader(batch_size, image_size, data_dir=data_dir):\n",
        "    \"\"\"\n",
        "    Batch the neural network data using DataLoader\n",
        "    :param batch_size: The size of each batch; the number of images in a batch\n",
        "    :param img_size: The square size of the image data (x, y)\n",
        "    :param data_dir: Directory where image data is located\n",
        "    :return: DataLoader with batched data\n",
        "    \"\"\"\n",
        "    \n",
        "    # TODO: Implement function and return a dataloader\n",
        "    \n",
        "    transform = transforms.Compose([transforms.Resize(image_size),\n",
        "                                    transforms.ToTensor()])\n",
        "    \n",
        "    dataset = datasets.ImageFolder(data_dir, transform)\n",
        "    \n",
        "    dataloader = DataLoader(dataset, batch_size=batch_size, shuffle=True,\n",
        "                            num_workers=0)\n",
        "    \n",
        "    return dataloader"
      ],
      "execution_count": 0,
      "outputs": []
    },
    {
      "cell_type": "markdown",
      "metadata": {
        "id": "-Col5KpLuGzv",
        "colab_type": "text"
      },
      "source": [
        "## Create a DataLoader\n",
        "\n",
        "#### Exercise: Create a DataLoader `celeba_train_loader` with appropriate hyperparameters.\n",
        "\n",
        "Call the above function and create a dataloader to view images. \n",
        "* You can decide on any reasonable `batch_size` parameter\n",
        "* Your `image_size` **must be** `32`. Resizing the data to a smaller size will make for faster training, while still creating convincing images of faces!"
      ]
    },
    {
      "cell_type": "code",
      "metadata": {
        "id": "83ZYGbC9uGzx",
        "colab_type": "code",
        "colab": {}
      },
      "source": [
        "# Define function hyperparameters\n",
        "# batch_size from DCGAN paper\n",
        "batch_size = 128\n",
        "img_size = 32\n",
        "\n",
        "\"\"\"\n",
        "DON'T MODIFY ANYTHING IN THIS CELL THAT IS BELOW THIS LINE\n",
        "\"\"\"\n",
        "# Call your function and get a dataloader\n",
        "celeba_train_loader = get_dataloader(batch_size, img_size)\n"
      ],
      "execution_count": 0,
      "outputs": []
    },
    {
      "cell_type": "markdown",
      "metadata": {
        "id": "9hCoevGeuGz4",
        "colab_type": "text"
      },
      "source": [
        "Next, you can view some images! You should seen square images of somewhat-centered faces.\n",
        "\n",
        "Note: You'll need to convert the Tensor images into a NumPy type and transpose the dimensions to correctly display an image, suggested `imshow` code is below, but it may not be perfect."
      ]
    },
    {
      "cell_type": "code",
      "metadata": {
        "id": "GXgDG2vouGz6",
        "colab_type": "code",
        "outputId": "f55b1d05-5d66-46c2-b325-cd56dcf79c43",
        "colab": {
          "base_uri": "https://localhost:8080/",
          "height": 251
        }
      },
      "source": [
        "# helper display function\n",
        "def imshow(img):\n",
        "    npimg = img.numpy()\n",
        "    plt.imshow(np.transpose(npimg, (1, 2, 0)))\n",
        "\n",
        "\"\"\"\n",
        "DON'T MODIFY ANYTHING IN THIS CELL THAT IS BELOW THIS LINE\n",
        "\"\"\"\n",
        "# obtain one batch of training images\n",
        "dataiter = iter(celeba_train_loader)\n",
        "images, _ = dataiter.next() # _ for no labels\n",
        "\n",
        "# plot the images in the batch, along with the corresponding labels\n",
        "fig = plt.figure(figsize=(20, 4))\n",
        "plot_size=20\n",
        "for idx in np.arange(plot_size):\n",
        "    ax = fig.add_subplot(2, plot_size/2, idx+1, xticks=[], yticks=[])\n",
        "    imshow(images[idx])"
      ],
      "execution_count": 0,
      "outputs": [
        {
          "output_type": "display_data",
          "data": {
            "image/png": "[encoded data removed]",
            "text/plain": [
              "<Figure size 1440x288 with 20 Axes>"
            ]
          },
          "metadata": {
            "tags": []
          }
        }
      ]
    },
    {
      "cell_type": "markdown",
      "metadata": {
        "id": "5rcZ-HPwuG0C",
        "colab_type": "text"
      },
      "source": [
        "#### Exercise: Pre-process your image data and scale it to a pixel range of -1 to 1\n",
        "\n",
        "You need to do a bit of pre-processing; you know that the output of a `tanh` activated generator will contain pixel values in a range from -1 to 1, and so, we need to rescale our training images to a range of -1 to 1. (Right now, they are in a range from 0-1.)"
      ]
    },
    {
      "cell_type": "code",
      "metadata": {
        "id": "7p5M8l4NuG0H",
        "colab_type": "code",
        "colab": {}
      },
      "source": [
        "# TODO: Complete the scale function\n",
        "def scale(x, feature_range=(-1, 1)):\n",
        "    '''\n",
        "    Scale takes in an image x and returns that image, scaled\n",
        "    with a feature_range of pixel values from -1 to 1. \n",
        "    This function assumes that the input x is already scaled from 0-1.\n",
        "    '''\n",
        "    # assume x is scaled to (0, 1)\n",
        "    # scale to feature_range and return scaled x\n",
        "    min, max = feature_range\n",
        "    x = x * (max - min) + min\n",
        "    return x"
      ],
      "execution_count": 0,
      "outputs": []
    },
    {
      "cell_type": "code",
      "metadata": {
        "id": "DRS7DtsLuG0P",
        "colab_type": "code",
        "outputId": "b314c89a-b697-4f9d-ba29-71129c4a4da3",
        "colab": {
          "base_uri": "https://localhost:8080/",
          "height": 54
        }
      },
      "source": [
        "\"\"\"\n",
        "DON'T MODIFY ANYTHING IN THIS CELL THAT IS BELOW THIS LINE\n",
        "\"\"\"\n",
        "# check scaled range\n",
        "# should be close to -1 to 1\n",
        "img = images[0]\n",
        "scaled_img = scale(img)\n",
        "\n",
        "print('Min: ', scaled_img.min())\n",
        "print('Max: ', scaled_img.max())"
      ],
      "execution_count": 0,
      "outputs": [
        {
          "output_type": "stream",
          "text": [
            "Min:  tensor(-0.8118)\n",
            "Max:  tensor(0.9216)\n"
          ],
          "name": "stdout"
        }
      ]
    },
    {
      "cell_type": "markdown",
      "metadata": {
        "id": "95obAN3fuG0W",
        "colab_type": "text"
      },
      "source": [
        "---\n",
        "# Define the Model\n",
        "\n",
        "A GAN is comprised of two adversarial networks, a discriminator and a generator.\n",
        "\n",
        "## Discriminator\n",
        "\n",
        "Your first task will be to define the discriminator. This is a convolutional classifier like you've built before, only without any maxpooling layers. To deal with this complex data, it's suggested you use a deep network with **normalization**. You are also allowed to create any helper functions that may be useful.\n",
        "\n",
        "#### Exercise: Complete the Discriminator class\n",
        "* The inputs to the discriminator are 32x32x3 tensor images\n",
        "* The output should be a single value that will indicate whether a given image is real or fake\n"
      ]
    },
    {
      "cell_type": "code",
      "metadata": {
        "id": "poR8m7-ruG0Y",
        "colab_type": "code",
        "colab": {}
      },
      "source": [
        "import torch.nn as nn\n",
        "import torch.nn.functional as F"
      ],
      "execution_count": 0,
      "outputs": []
    },
    {
      "cell_type": "code",
      "metadata": {
        "id": "aqSY_nRW3VeB",
        "colab_type": "code",
        "colab": {}
      },
      "source": [
        "# helper conv function\n",
        "def conv(in_channels, out_channels, kernel_size, stride=2, padding=1, batch_norm=True):\n",
        "    \"\"\"\n",
        "    Creates series of convolutional layers, with optional batch normalization.\n",
        "    Best results with kernel_size=4 (so 4*4 filter)\n",
        "    Spatial size output (downsampling of x-y dims) = ((W - F + 2P)/S) + 1\n",
        "    W=input size; F=kernel size; P=padding;S=Stride\n",
        "    \"\"\"\n",
        "    #Creates empty list to append the layers for input to Sequential container\n",
        "    layers = []\n",
        "    \n",
        "    # Creates Conv Layer with params passed to function\n",
        "    conv_layer = nn.Conv2d(in_channels, out_channels, \n",
        "                           kernel_size, stride, padding, bias=False)\n",
        "    \n",
        "    # Appends the Conv layer to list of layers\n",
        "    layers.append(conv_layer)\n",
        "    \n",
        "    # If batch_norm=True, creates and appends batchnorm layer to list of layers\n",
        "    if batch_norm:\n",
        "        layers.append(nn.BatchNorm2d(out_channels))\n",
        "        \n",
        "    # \"*\" unpacks list of layers, in order.\n",
        "    # Returns container with series of layers\n",
        "    return nn.Sequential(*layers)"
      ],
      "execution_count": 0,
      "outputs": []
    },
    {
      "cell_type": "code",
      "metadata": {
        "id": "qz1SFhqGuG0f",
        "colab_type": "code",
        "outputId": "3c138688-017c-491a-ab26-2e2e7f1f366f",
        "colab": {
          "base_uri": "https://localhost:8080/",
          "height": 35
        }
      },
      "source": [
        "class Discriminator(nn.Module):\n",
        "\n",
        "    def __init__(self, conv_dim):\n",
        "        \"\"\"\n",
        "        Initialize the Discriminator Module\n",
        "        :param conv_dim: The depth of the first convolutional layer\n",
        "        :Spatial size output (downsampling) = ((W - F + 2P)/S) + 1\n",
        "         W=input size; F=kernel size; P=padding;S=Stride\n",
        "        \"\"\"\n",
        "        super(Discriminator, self).__init__()\n",
        "\n",
        "        # complete init function\n",
        "        \n",
        "        # Saves passed conv_dim parameter, for use through process\n",
        "        self.conv_dim = conv_dim\n",
        "        \n",
        "        # In: n-dim x 3-channel img; Out dims/2 x conv_dim channels\n",
        "        #(for 32x32x3, out is 16 x 16 x conv_dim)\n",
        "        # First layer, so no batch_norm\n",
        "        self.conv1 = conv(3, conv_dim, 4, batch_norm=False)\n",
        "        \n",
        "        # In: conv_dim channel x 16 x 16; Out: conv_dim*2 x 8 x 8\n",
        "        self.conv2 = conv(conv_dim, conv_dim*2, 4)\n",
        "        \n",
        "        # In: conv_dim*2 x 8 x 8; Out: conv_dim*4 x 4 x 4\n",
        "        self.conv3 = conv(conv_dim*2, conv_dim*4, 4)\n",
        "        \n",
        "        # Final, fully-connected layer\n",
        "        # In: flattened conv_dim*4 x 4 x 4 inputs; Out: 1 value\n",
        "        self.fc = nn.Linear(conv_dim*4*4*4, 1)\n",
        "\n",
        "    def forward(self, x):\n",
        "        \"\"\"\n",
        "        Forward propagation of the neural network\n",
        "        :param x: The input to the neural network     \n",
        "        :return: Discriminator logits; the output of the neural network\n",
        "        \"\"\"\n",
        "        # define feedforward behavior\n",
        "        \n",
        "        # 3 hidden layers with leaky ReLU, negative slope = 0.2\n",
        "        out1 = F.leaky_relu(self.conv1(x), 0.2)\n",
        "        out2 = F.leaky_relu(self.conv2(out1), 0.2)\n",
        "        out3 = F.leaky_relu(self.conv3(out2), 0.2)\n",
        "        \n",
        "        # Flatten hidden layers output, for input to FC\n",
        "        flatten = out3.view(-1, self.conv_dim*4*4*4)\n",
        "        \n",
        "        # Output layer returning discriminator logits\n",
        "        x = self.fc(flatten)\n",
        "        \n",
        "        return x\n",
        "\n",
        "\n",
        "\"\"\"\n",
        "DON'T MODIFY ANYTHING IN THIS CELL THAT IS BELOW THIS LINE\n",
        "\"\"\"\n",
        "tests.test_discriminator(Discriminator)"
      ],
      "execution_count": 0,
      "outputs": [
        {
          "output_type": "stream",
          "text": [
            "Tests Passed\n"
          ],
          "name": "stdout"
        }
      ]
    },
    {
      "cell_type": "markdown",
      "metadata": {
        "id": "1omolqqZuG0l",
        "colab_type": "text"
      },
      "source": [
        "## Generator\n",
        "\n",
        "The generator should upsample an input and generate a *new* image of the same size as our training data `32x32x3`. This should be mostly transpose convolutional layers with normalization applied to the outputs.\n",
        "\n",
        "#### Exercise: Complete the Generator class\n",
        "* The inputs to the generator are vectors of some length `z_size`\n",
        "* The output should be a image of shape `32x32x3`"
      ]
    },
    {
      "cell_type": "code",
      "metadata": {
        "id": "xB_kPlJyAb68",
        "colab_type": "code",
        "colab": {}
      },
      "source": [
        "def deconv(in_channels, out_channels, kernel_size, stride=2, padding=1,\n",
        "           batch_norm=True):\n",
        "    \"\"\"\n",
        "    Creates series of transposed-convolutional layers,\n",
        "    with optional batch normalization.\n",
        "    Best results with kernel_size=4 (so 4*4 filter)\n",
        "    Used to upsample x-y output of Discriminator until final GAN output\n",
        "    \"\"\"\n",
        "    \n",
        "    #Creates empty list to append the layers for input to Sequential container\n",
        "    layers = []\n",
        "    \n",
        "    # Creates transposed-Conv Layer with params passed to function\n",
        "    t_conv_layer = nn.ConvTranspose2d(in_channels, out_channels,\n",
        "                                           kernel_size, stride, padding,\n",
        "                                           bias=False)\n",
        "    \n",
        "    # Appends the Conv layer to list of layers\n",
        "    layers.append(t_conv_layer)\n",
        "    \n",
        "    # If batch_norm=True, creates and appends batchnorm layer to list of layers\n",
        "    if batch_norm:\n",
        "        # append batchnorm layer\n",
        "        layers.append(nn.BatchNorm2d(out_channels))\n",
        "    \n",
        "    # \"*\" unpacks list of layers, in order.\n",
        "    # Returns container with series of layers\n",
        "    return nn.Sequential(*layers)"
      ],
      "execution_count": 0,
      "outputs": []
    },
    {
      "cell_type": "code",
      "metadata": {
        "id": "x7t_nytIuG0n",
        "colab_type": "code",
        "outputId": "1fa305fb-e593-4af6-b37d-c487b0ebcfcc",
        "colab": {
          "base_uri": "https://localhost:8080/",
          "height": 35
        }
      },
      "source": [
        "class Generator(nn.Module):\n",
        "    \n",
        "    def __init__(self, z_size, conv_dim):\n",
        "        \"\"\"\n",
        "        Initialize the Generator Module\n",
        "        :param z_size: The length of the input latent vector, z\n",
        "        :param conv_dim: The depth of the inputs to the *last* transpose convolutional layer\n",
        "        \"\"\"\n",
        "        super(Generator, self).__init__()\n",
        "\n",
        "        # complete init function\n",
        "        \n",
        "        # Saves passed conv_dim parameter, for use through process\n",
        "        self.conv_dim = conv_dim\n",
        "        \n",
        "        # Fully-connected layer as entry to Generator\n",
        "        # In: z inputs from latent vector; Out: conv_dim*4 x 4 x 4\n",
        "        self.fc = nn.Linear(z_size, conv_dim*4*4*4)\n",
        "        \n",
        "        # In: conv_dim*4 x 4 x 4; Out: conv_dim*2 x 8 x 8\n",
        "        self.tconv1 = deconv(conv_dim*4, conv_dim*2, 4)\n",
        "        \n",
        "        # In: conv_dim*2 x 8 x 8; Out: conv_dim channel x 16 x 16\n",
        "        self.tconv2 = deconv(conv_dim*2, conv_dim, 4)\n",
        "        # In: conv_dim channel x 16 x 16; Out: 32 x 32 x 3. No batch_norm.\n",
        "        self.tconv3 = deconv(conv_dim, 3, 4, batch_norm=False)\n",
        "        \n",
        "        # Dropout layer\n",
        "        self.dropout = nn.Dropout(0.5)\n",
        "\n",
        "    def forward(self, x):\n",
        "        \"\"\"\n",
        "        Forward propagation of the neural network\n",
        "        :param x: The input to the neural network     \n",
        "        :return: A 32x32x3 Tensor image as output\n",
        "        \"\"\"\n",
        "        # define feedforward behavior\n",
        "        \n",
        "        # Input through FC layer\n",
        "        out1 = self.fc(x)\n",
        "        \n",
        "        # deflatten to conv format (batch_size, Depth, Width, Height)\n",
        "        # -1 is a placeholder for appropriate auto batch_size\n",
        "        deflat = out1.view(-1, self.conv_dim*4, 4, 4)\n",
        "        \n",
        "        # 3 hidden layers with deconv, upsampling x-y by factor 2, \n",
        "        # decreasing depth by 4 with each layer\n",
        "        # Final output is 32x32x3 img\n",
        "        out2 = F.relu(self.tconv1(deflat))\n",
        "        drop = self.dropout(out2)\n",
        "        out3 = F.relu(self.tconv2(drop))\n",
        "        out4 = self.tconv3(out3)\n",
        "        \n",
        "        # Tanh function ensures pixel values range from -1 to 1\n",
        "        x = torch.tanh(out4)\n",
        "        \n",
        "        return x\n",
        "\n",
        "\"\"\"\n",
        "DON'T MODIFY ANYTHING IN THIS CELL THAT IS BELOW THIS LINE\n",
        "\"\"\"\n",
        "tests.test_generator(Generator)"
      ],
      "execution_count": 0,
      "outputs": [
        {
          "output_type": "stream",
          "text": [
            "Tests Passed\n"
          ],
          "name": "stdout"
        }
      ]
    },
    {
      "cell_type": "markdown",
      "metadata": {
        "id": "2DVDiYhruG0y",
        "colab_type": "text"
      },
      "source": [
        "## Initialize the weights of your networks\n",
        "\n",
        "To help your models converge, you should initialize the weights of the convolutional and linear layers in your model. From reading the [original DCGAN paper](https://arxiv.org/pdf/1511.06434.pdf), they say:\n",
        "> All weights were initialized from a zero-centered Normal distribution with standard deviation 0.02.\n",
        "\n",
        "So, your next task will be to define a weight initialization function that does just this!\n",
        "\n",
        "You can refer back to the lesson on weight initialization or even consult existing model code, such as that from [the `networks.py` file in CycleGAN Github repository](https://github.com/junyanz/pytorch-CycleGAN-and-pix2pix/blob/master/models/networks.py) to help you complete this function.\n",
        "\n",
        "#### Exercise: Complete the weight initialization function\n",
        "\n",
        "* This should initialize only **convolutional** and **linear** layers\n",
        "* Initialize the weights to a normal distribution, centered around 0, with a standard deviation of 0.02.\n",
        "* The bias terms, if they exist, may be left alone or set to 0."
      ]
    },
    {
      "cell_type": "code",
      "metadata": {
        "id": "tg7XpcyQuG00",
        "colab_type": "code",
        "colab": {}
      },
      "source": [
        "def weights_init_normal(m):\n",
        "    \"\"\"\n",
        "    Applies initial weights to certain layers in a model .\n",
        "    The weights are taken from a normal distribution \n",
        "    with mean = 0, std dev = 0.02.\n",
        "    :param m: A module or layer in a network    \n",
        "    \"\"\"\n",
        "    # classname will be something like:\n",
        "    # `Conv`, `BatchNorm2d`, `Linear`, etc.\n",
        "    classname = m.__class__.__name__\n",
        "    \n",
        "    # Initializes weight of Convs and Linears \n",
        "    # to normal_(tensor, mean, std). Defaults: mean= 0.; std=1.\n",
        "    if hasattr(m, 'weight') and (classname.find('Conv') != -1 or\n",
        "                                 classname.find('Linear') != -1):\n",
        "      \n",
        "      nn.init.normal_(m.weight.data, 0, 0.02)\n",
        "\n",
        "    \n",
        "    # If bias, init to constant_(tensor, val)\n",
        "    if hasattr(m, 'bias') and m.bias is not None:\n",
        "      nn.init.constant_(m.bias.data, 0.0)\n",
        "#       m.bias.data.fill_(0)\n",
        "    \n",
        "    \n",
        "#     ********************** Different options for bias init\n",
        "    \n",
        "    \n",
        "    \n",
        "#     if hasattr(m, 'weight') and (classname.find('Conv') != -1 or\n",
        "#                                  classname.find('Linear') != -1):\n",
        "      \n",
        "#       nn.init.normal_(m.weight.data, 0, 0.02)\n",
        "      \n",
        "#       # If bias, init to constant_(tensor, val)\n",
        "#       if hasattr(m, 'bias') and m.bias is not None:\n",
        "#         m.bias.data.fill_(0)\n",
        "# #         nn.init.constant_(m.bias.data, 0.0)"
      ],
      "execution_count": 0,
      "outputs": []
    },
    {
      "cell_type": "markdown",
      "metadata": {
        "collapsed": true,
        "id": "efVAc8ZsuG06",
        "colab_type": "text"
      },
      "source": [
        "## Build complete network\n",
        "\n",
        "Define your models' hyperparameters and instantiate the discriminator and generator from the classes defined above. Make sure you've passed in the correct input arguments."
      ]
    },
    {
      "cell_type": "code",
      "metadata": {
        "id": "MlYriWMAuG09",
        "colab_type": "code",
        "colab": {}
      },
      "source": [
        "\"\"\"\n",
        "DON'T MODIFY ANYTHING IN THIS CELL THAT IS BELOW THIS LINE\n",
        "\"\"\"\n",
        "def build_network(d_conv_dim, g_conv_dim, z_size):\n",
        "    # define discriminator and generator\n",
        "    D = Discriminator(d_conv_dim)\n",
        "    G = Generator(z_size=z_size, conv_dim=g_conv_dim)\n",
        "\n",
        "    # initialize model weights\n",
        "    D.apply(weights_init_normal)\n",
        "    G.apply(weights_init_normal)\n",
        "\n",
        "    print(D)\n",
        "    print()\n",
        "    print(G)\n",
        "    \n",
        "    return D, G\n"
      ],
      "execution_count": 0,
      "outputs": []
    },
    {
      "cell_type": "markdown",
      "metadata": {
        "id": "t-aHtWAduG1E",
        "colab_type": "text"
      },
      "source": [
        "#### Exercise: Define model hyperparameters"
      ]
    },
    {
      "cell_type": "code",
      "metadata": {
        "id": "5wZkdk3PuG1F",
        "colab_type": "code",
        "outputId": "f9210fb6-9ff2-47d1-a729-d7c0babdce74",
        "colab": {
          "base_uri": "https://localhost:8080/",
          "height": 568
        }
      },
      "source": [
        "# Define model hyperparams\n",
        "d_conv_dim = 128\n",
        "g_conv_dim = 128\n",
        "#input of generator, i.e. size of the latent vector\n",
        "z_size = 100\n",
        "\n",
        "\"\"\"\n",
        "DON'T MODIFY ANYTHING IN THIS CELL THAT IS BELOW THIS LINE\n",
        "\"\"\"\n",
        "D, G = build_network(d_conv_dim, g_conv_dim, z_size)"
      ],
      "execution_count": 0,
      "outputs": [
        {
          "output_type": "stream",
          "text": [
            "Discriminator(\n",
            "  (conv1): Sequential(\n",
            "    (0): Conv2d(3, 128, kernel_size=(4, 4), stride=(2, 2), padding=(1, 1), bias=False)\n",
            "  )\n",
            "  (conv2): Sequential(\n",
            "    (0): Conv2d(128, 256, kernel_size=(4, 4), stride=(2, 2), padding=(1, 1), bias=False)\n",
            "    (1): BatchNorm2d(256, eps=1e-05, momentum=0.1, affine=True, track_running_stats=True)\n",
            "  )\n",
            "  (conv3): Sequential(\n",
            "    (0): Conv2d(256, 512, kernel_size=(4, 4), stride=(2, 2), padding=(1, 1), bias=False)\n",
            "    (1): BatchNorm2d(512, eps=1e-05, momentum=0.1, affine=True, track_running_stats=True)\n",
            "  )\n",
            "  (fc): Linear(in_features=8192, out_features=1, bias=True)\n",
            ")\n",
            "\n",
            "Generator(\n",
            "  (fc): Linear(in_features=100, out_features=8192, bias=True)\n",
            "  (tconv1): Sequential(\n",
            "    (0): ConvTranspose2d(512, 256, kernel_size=(4, 4), stride=(2, 2), padding=(1, 1), bias=False)\n",
            "    (1): BatchNorm2d(256, eps=1e-05, momentum=0.1, affine=True, track_running_stats=True)\n",
            "  )\n",
            "  (tconv2): Sequential(\n",
            "    (0): ConvTranspose2d(256, 128, kernel_size=(4, 4), stride=(2, 2), padding=(1, 1), bias=False)\n",
            "    (1): BatchNorm2d(128, eps=1e-05, momentum=0.1, affine=True, track_running_stats=True)\n",
            "  )\n",
            "  (tconv3): Sequential(\n",
            "    (0): ConvTranspose2d(128, 3, kernel_size=(4, 4), stride=(2, 2), padding=(1, 1), bias=False)\n",
            "  )\n",
            "  (dropout): Dropout(p=0.5)\n",
            ")\n"
          ],
          "name": "stdout"
        }
      ]
    },
    {
      "cell_type": "markdown",
      "metadata": {
        "id": "Rfo2-ChAuG1K",
        "colab_type": "text"
      },
      "source": [
        "### Training on GPU\n",
        "\n",
        "Check if you can train on GPU. Here, we'll set this as a boolean variable `train_on_gpu`. Later, you'll be responsible for making sure that \n",
        ">* Models,\n",
        "* Model inputs, and\n",
        "* Loss function arguments\n",
        "\n",
        "Are moved to GPU, where appropriate."
      ]
    },
    {
      "cell_type": "code",
      "metadata": {
        "id": "mtBMkBTBuG1L",
        "colab_type": "code",
        "outputId": "c790c35a-f580-4bbe-a306-95b5b5d8fb9e",
        "colab": {
          "base_uri": "https://localhost:8080/",
          "height": 35
        }
      },
      "source": [
        "\"\"\"\n",
        "DON'T MODIFY ANYTHING IN THIS CELL\n",
        "\"\"\"\n",
        "import torch\n",
        "\n",
        "# Check for a GPU\n",
        "train_on_gpu = torch.cuda.is_available()\n",
        "if not train_on_gpu:\n",
        "    print('No GPU found. Please use a GPU to train your neural network.')\n",
        "else:\n",
        "    print('Training on GPU!')"
      ],
      "execution_count": 0,
      "outputs": [
        {
          "output_type": "stream",
          "text": [
            "Training on GPU!\n"
          ],
          "name": "stdout"
        }
      ]
    },
    {
      "cell_type": "markdown",
      "metadata": {
        "id": "2g0jmjCLuG1R",
        "colab_type": "text"
      },
      "source": [
        "---\n",
        "## Discriminator and Generator Losses\n",
        "\n",
        "Now we need to calculate the losses for both types of adversarial networks.\n",
        "\n",
        "### Discriminator Losses\n",
        "\n",
        "> * For the discriminator, the total loss is the sum of the losses for real and fake images, `d_loss = d_real_loss + d_fake_loss`. \n",
        "* Remember that we want the discriminator to output 1 for real images and 0 for fake images, so we need to set up the losses to reflect that.\n",
        "\n",
        "\n",
        "### Generator Loss\n",
        "\n",
        "The generator loss will look similar only with flipped labels. The generator's goal is to get the discriminator to *think* its generated images are *real*.\n",
        "\n",
        "#### Exercise: Complete real and fake loss functions\n",
        "\n",
        "**You may choose to use either cross entropy or a least squares error loss to complete the following `real_loss` and `fake_loss` functions.**"
      ]
    },
    {
      "cell_type": "code",
      "metadata": {
        "id": "cQyQx5zJuG1S",
        "colab_type": "code",
        "colab": {}
      },
      "source": [
        "def real_loss(D_out):\n",
        "    '''\n",
        "    Calculates how close discriminator outputs are to being real.\n",
        "    params:\n",
        "    :D_out: logits output by discriminator\n",
        "    :return: real loss\n",
        "    '''\n",
        "    # Gets nr of values in Discriminator outputs\n",
        "    batch_size = D_out.size(0)\n",
        "    \n",
        "    # Create ground-truth real labels. Instead of =1, uses =0.9 \"smooth\"\n",
        "    # labels, to improve generalization and make training stable \n",
        "    # (batch_size-labels, all 0.9)\n",
        "    labels = torch.ones(batch_size)*0.9\n",
        "    \n",
        "    # Moves labels to GPU if training there\n",
        "    if train_on_gpu:\n",
        "        labels = labels.cuda()\n",
        "    \n",
        "    # defines numerically-stable criterion. Binary Cross-Entropy Loss\n",
        "    # applies sigmoid function to Disc. logits\n",
        "    criterion = nn.BCEWithLogitsLoss()\n",
        "    \n",
        "    # Passes function input (with empty dims squeezed) \n",
        "    #and labels to criterion\n",
        "    loss = criterion(D_out.squeeze(), labels)\n",
        "    \n",
        "    return loss\n",
        "  \n",
        "def fake_loss(D_out):\n",
        "    '''\n",
        "    Calculates how close discriminator outputs are to being fake.\n",
        "    param, D_out: discriminator logits\n",
        "    return: fake loss\n",
        "    '''\n",
        "    batch_size = D_out.size(0)\n",
        "    # Creates ground-truth fake labels (=0)\n",
        "    #(batch_size-labels, all 0)\n",
        "    labels = torch.zeros(batch_size)\n",
        "    \n",
        "    if train_on_gpu:\n",
        "        labels = labels.cuda()\n",
        "    \n",
        "    criterion = nn.BCEWithLogitsLoss()\n",
        "    \n",
        "    loss = criterion(D_out.squeeze(), labels)\n",
        "     \n",
        "    return loss"
      ],
      "execution_count": 0,
      "outputs": []
    },
    {
      "cell_type": "markdown",
      "metadata": {
        "id": "NoHg5FhhuG1W",
        "colab_type": "text"
      },
      "source": [
        "## Optimizers\n",
        "\n",
        "#### Exercise: Define optimizers for your Discriminator (D) and Generator (G)\n",
        "\n",
        "Define optimizers for your models with appropriate hyperparameters."
      ]
    },
    {
      "cell_type": "code",
      "metadata": {
        "id": "UgdSdGsPuG1a",
        "colab_type": "code",
        "colab": {}
      },
      "source": [
        "import torch.optim as optim\n",
        "\n",
        "# Parameters extracted from the original DCGAN paper \n",
        "# at https://arxiv.org/pdf/1511.06434.pdf\n",
        "\n",
        "lr=0.0002 # The usual 0.001 is too high\n",
        "beta1=0.2 # The original 0.9 made training unstable\n",
        "beta2=0.999 # Default value\n",
        "\n",
        "# Create optimizers for the discriminator D and generator G\n",
        "d_optimizer = optim.Adam(D.parameters(), lr, [beta1, beta2])\n",
        "g_optimizer = optim.Adam(G.parameters(), lr, [beta1, beta2])"
      ],
      "execution_count": 0,
      "outputs": []
    },
    {
      "cell_type": "markdown",
      "metadata": {
        "id": "YqB6lIf_uG1e",
        "colab_type": "text"
      },
      "source": [
        "---\n",
        "## Training\n",
        "\n",
        "Training will involve alternating between training the discriminator and the generator. You'll use your functions `real_loss` and `fake_loss` to help you calculate the discriminator losses.\n",
        "\n",
        "* You should train the discriminator by alternating on real and fake images\n",
        "* Then the generator, which tries to trick the discriminator and should have an opposing loss function\n",
        "\n",
        "\n",
        "#### Saving Samples\n",
        "\n",
        "You've been given some code to print out some loss statistics and save some generated \"fake\" samples."
      ]
    },
    {
      "cell_type": "markdown",
      "metadata": {
        "id": "WqvzDbfguG1g",
        "colab_type": "text"
      },
      "source": [
        "#### Exercise: Complete the training function\n",
        "\n",
        "Keep in mind that, if you've moved your models to GPU, you'll also have to move any model inputs to GPU."
      ]
    },
    {
      "cell_type": "code",
      "metadata": {
        "id": "ldEhybv9uG1i",
        "colab_type": "code",
        "colab": {}
      },
      "source": [
        "def train(D, G, n_epochs, print_every=50):\n",
        "    '''Trains adversarial networks for some number of epochs\n",
        "       param, D: the discriminator network\n",
        "       param, G: the generator network\n",
        "       param, n_epochs: number of epochs to train for\n",
        "       param, print_every: when to print and record the models' losses\n",
        "       return: D and G losses'''\n",
        "    \n",
        "    # move models to GPU\n",
        "    if train_on_gpu:\n",
        "        D.cuda()\n",
        "        G.cuda()\n",
        "\n",
        "    # keep track of loss and generated, \"fake\" samples\n",
        "    samples = []\n",
        "    losses = []\n",
        "\n",
        "    # Get some fixed data for sampling. These are images that are held\n",
        "    # constant throughout training, and allow us to inspect the model's performance\n",
        "    sample_size=16\n",
        "    fixed_z = np.random.uniform(-1, 1, size=(sample_size, z_size))\n",
        "    fixed_z = torch.from_numpy(fixed_z).float()\n",
        "    # move z to GPU if available\n",
        "    if train_on_gpu:\n",
        "        fixed_z = fixed_z.cuda()\n",
        "\n",
        "    # epoch training loop\n",
        "    for epoch in range(n_epochs):\n",
        "\n",
        "        # batch training loop\n",
        "        for batch_i, (real_images, _) in enumerate(celeba_train_loader):\n",
        "\n",
        "            batch_size = real_images.size(0)\n",
        "            real_images = scale(real_images)\n",
        "\n",
        "            # ===============================================\n",
        "            #         YOUR CODE HERE: TRAIN THE NETWORKS\n",
        "            # ===============================================\n",
        "            \n",
        "            # zeroes-out any accumulated gradients\n",
        "            d_optimizer.zero_grad()\n",
        "            \n",
        "            \n",
        "            # 1. Train the discriminator on real and fake images\n",
        "            \n",
        "            # Training on REAL images\n",
        "            \n",
        "            # Move images to GPU\n",
        "            if train_on_gpu:\n",
        "                real_images = real_images.cuda()\n",
        "            \n",
        "            # Trains the DISCRIMINATOR on real images\n",
        "            disc_real = D(real_images)\n",
        "            # ccomputes loss on real images\n",
        "            disc_real_loss = real_loss(disc_real)\n",
        "            \n",
        "            # Training on FAKE images\n",
        "            \n",
        "            # Generate fake images\n",
        "            # Creates latent vector of batch_size random uniform values\n",
        "            #between -1 and 1\n",
        "            lat_vect = np.random.uniform(-1, 1, size=(batch_size, z_size))\n",
        "            lat_vect = torch.from_numpy(lat_vect).float()\n",
        "            \n",
        "            # moves vector to GPU\n",
        "            if train_on_gpu:\n",
        "                lat_vect = lat_vect.cuda()\n",
        "            # Passes vector to generator, output is fake images\n",
        "            fake_images = G(lat_vect)\n",
        "            \n",
        "            # Trains the discriminator on fake images\n",
        "            disc_fake = D(fake_images)\n",
        "            # ccomputes loss on fake images\n",
        "            disc_fake_loss = fake_loss(disc_fake)\n",
        "            \n",
        "            # compute total loss and perform backprop\n",
        "            disc_total_loss = disc_real_loss + disc_fake_loss\n",
        "            disc_total_loss.backward()\n",
        "            d_optimizer.step()\n",
        "            \n",
        "            # 2. Train the GENERATOR with an adversarial loss\n",
        "            \n",
        "            # zeroes-out any accumulated gradients\n",
        "            g_optimizer.zero_grad()\n",
        "            \n",
        "            # Generate fake images\n",
        "            lat_vect = np.random.uniform(-1, 1, size=(batch_size, z_size))\n",
        "            lat_vect = torch.from_numpy(lat_vect).float()\n",
        "            if train_on_gpu:\n",
        "                lat_vect = lat_vect.cuda()\n",
        "            fake_images = G(lat_vect)\n",
        "            \n",
        "            # Use real_loss function to flip labels\n",
        "            # pass fake imgs to gest disc outputs\n",
        "            D_fake = D(fake_images)\n",
        "            \n",
        "            # Calculates adversarial loss by passing disc outputs to real_loss\n",
        "            # and getting how much are they close to being real (i.e. 1)\n",
        "            gen_loss = real_loss(D_fake)\n",
        "            \n",
        "            # Perform backprop\n",
        "            gen_loss.backward()\n",
        "            g_optimizer.step()\n",
        "                       \n",
        "            \n",
        "            # ===============================================\n",
        "            #              END OF YOUR CODE\n",
        "            # ===============================================\n",
        "\n",
        "            # Print some loss stats\n",
        "            if batch_i % print_every == 0:\n",
        "                # append discriminator loss and generator loss\n",
        "                losses.append((disc_total_loss.item(), gen_loss.item()))\n",
        "                # print discriminator and generator loss\n",
        "                print('Epoch [{:5d}/{:5d}] | d_loss: {:6.4f} | g_loss: {:6.4f}'.format(\n",
        "                        epoch+1, n_epochs, disc_total_loss.item(), gen_loss.item()))\n",
        "\n",
        "\n",
        "        ## AFTER EACH EPOCH##    \n",
        "        # this code assumes your generator is named G, feel free to change the name\n",
        "        # generate and save sample, fake images\n",
        "        G.eval() # for generating samples\n",
        "        samples_z = G(fixed_z)\n",
        "        samples.append(samples_z)\n",
        "        G.train() # back to training mode\n",
        "\n",
        "    # Save training generator samples\n",
        "    with open('train_samples.pkl', 'wb') as f:\n",
        "        pkl.dump(samples, f)\n",
        "    \n",
        "    # finally return losses\n",
        "    return losses"
      ],
      "execution_count": 0,
      "outputs": []
    },
    {
      "cell_type": "markdown",
      "metadata": {
        "id": "k8r3lKDtuG1p",
        "colab_type": "text"
      },
      "source": [
        "Set your number of training epochs and train your GAN!"
      ]
    },
    {
      "cell_type": "code",
      "metadata": {
        "id": "aV8ip1lguG1q",
        "colab_type": "code",
        "outputId": "1a5e5dc8-a7e6-45b6-9a89-20df3def9d9f",
        "colab": {
          "base_uri": "https://localhost:8080/",
          "height": 6500
        }
      },
      "source": [
        "# set number of epochs (at least 40 are recommended)\n",
        "n_epochs = 50\n",
        "\n",
        "\n",
        "\"\"\"\n",
        "DON'T MODIFY ANYTHING IN THIS CELL\n",
        "\"\"\"\n",
        "# call training function\n",
        "losses = train(D, G, n_epochs=n_epochs)"
      ],
      "execution_count": 0,
      "outputs": [
        {
          "output_type": "stream",
          "text": [
            "Epoch [    1/   50] | d_loss: 1.3202 | g_loss: 1.6883\n",
            "Epoch [    1/   50] | d_loss: 0.4703 | g_loss: 3.2072\n",
            "Epoch [    1/   50] | d_loss: 0.7784 | g_loss: 5.0162\n",
            "Epoch [    1/   50] | d_loss: 1.0168 | g_loss: 0.7464\n",
            "Epoch [    1/   50] | d_loss: 0.7389 | g_loss: 2.8460\n",
            "Epoch [    1/   50] | d_loss: 0.9973 | g_loss: 4.2857\n",
            "Epoch [    1/   50] | d_loss: 0.9797 | g_loss: 2.3138\n",
            "Epoch [    1/   50] | d_loss: 1.0745 | g_loss: 3.3514\n",
            "Epoch [    1/   50] | d_loss: 1.4960 | g_loss: 2.7766\n",
            "Epoch [    1/   50] | d_loss: 1.2191 | g_loss: 2.6736\n",
            "Epoch [    1/   50] | d_loss: 0.9702 | g_loss: 2.1210\n",
            "Epoch [    1/   50] | d_loss: 1.1420 | g_loss: 0.7469\n",
            "Epoch [    1/   50] | d_loss: 1.6166 | g_loss: 2.3691\n",
            "Epoch [    1/   50] | d_loss: 0.8937 | g_loss: 1.3716\n",
            "Epoch [    1/   50] | d_loss: 1.3056 | g_loss: 2.7071\n",
            "Epoch [    2/   50] | d_loss: 2.3471 | g_loss: 0.5695\n",
            "Epoch [    2/   50] | d_loss: 1.1114 | g_loss: 0.9145\n",
            "Epoch [    2/   50] | d_loss: 1.0981 | g_loss: 2.2314\n",
            "Epoch [    2/   50] | d_loss: 0.9092 | g_loss: 1.5402\n",
            "Epoch [    2/   50] | d_loss: 1.0994 | g_loss: 2.0633\n",
            "Epoch [    2/   50] | d_loss: 1.0118 | g_loss: 1.4177\n",
            "Epoch [    2/   50] | d_loss: 0.9138 | g_loss: 1.1417\n",
            "Epoch [    2/   50] | d_loss: 0.8071 | g_loss: 1.2795\n",
            "Epoch [    2/   50] | d_loss: 1.2387 | g_loss: 1.8379\n",
            "Epoch [    2/   50] | d_loss: 1.2432 | g_loss: 0.8014\n",
            "Epoch [    2/   50] | d_loss: 1.0807 | g_loss: 0.8236\n",
            "Epoch [    2/   50] | d_loss: 0.8829 | g_loss: 1.4384\n",
            "Epoch [    2/   50] | d_loss: 0.9130 | g_loss: 1.1695\n",
            "Epoch [    2/   50] | d_loss: 1.0433 | g_loss: 0.7460\n",
            "Epoch [    2/   50] | d_loss: 1.8409 | g_loss: 0.6463\n",
            "Epoch [    3/   50] | d_loss: 1.6802 | g_loss: 2.2962\n",
            "Epoch [    3/   50] | d_loss: 0.8603 | g_loss: 1.6003\n",
            "Epoch [    3/   50] | d_loss: 0.9133 | g_loss: 1.2448\n",
            "Epoch [    3/   50] | d_loss: 0.9486 | g_loss: 1.1660\n",
            "Epoch [    3/   50] | d_loss: 0.9191 | g_loss: 1.8330\n",
            "Epoch [    3/   50] | d_loss: 0.9872 | g_loss: 1.4009\n",
            "Epoch [    3/   50] | d_loss: 1.0044 | g_loss: 1.0900\n",
            "Epoch [    3/   50] | d_loss: 0.9480 | g_loss: 0.8932\n",
            "Epoch [    3/   50] | d_loss: 1.2705 | g_loss: 1.6270\n",
            "Epoch [    3/   50] | d_loss: 0.9734 | g_loss: 1.5096\n",
            "Epoch [    3/   50] | d_loss: 0.9158 | g_loss: 1.1807\n",
            "Epoch [    3/   50] | d_loss: 1.1860 | g_loss: 1.0268\n",
            "Epoch [    3/   50] | d_loss: 1.2143 | g_loss: 2.3395\n",
            "Epoch [    3/   50] | d_loss: 0.8769 | g_loss: 1.2548\n",
            "Epoch [    3/   50] | d_loss: 0.9784 | g_loss: 1.5841\n",
            "Epoch [    4/   50] | d_loss: 0.9182 | g_loss: 1.6265\n",
            "Epoch [    4/   50] | d_loss: 1.0096 | g_loss: 1.0723\n",
            "Epoch [    4/   50] | d_loss: 1.0388 | g_loss: 1.0087\n",
            "Epoch [    4/   50] | d_loss: 1.0274 | g_loss: 2.0657\n",
            "Epoch [    4/   50] | d_loss: 1.1448 | g_loss: 2.3311\n",
            "Epoch [    4/   50] | d_loss: 1.0154 | g_loss: 1.3587\n",
            "Epoch [    4/   50] | d_loss: 0.8560 | g_loss: 1.5557\n",
            "Epoch [    4/   50] | d_loss: 1.1609 | g_loss: 2.1756\n",
            "Epoch [    4/   50] | d_loss: 1.0290 | g_loss: 0.7499\n",
            "Epoch [    4/   50] | d_loss: 1.8395 | g_loss: 0.6210\n",
            "Epoch [    4/   50] | d_loss: 0.9107 | g_loss: 1.2035\n",
            "Epoch [    4/   50] | d_loss: 0.8977 | g_loss: 1.5967\n",
            "Epoch [    4/   50] | d_loss: 0.8742 | g_loss: 1.2932\n",
            "Epoch [    4/   50] | d_loss: 0.9825 | g_loss: 1.0223\n",
            "Epoch [    4/   50] | d_loss: 1.1121 | g_loss: 1.9245\n",
            "Epoch [    5/   50] | d_loss: 1.0105 | g_loss: 0.9920\n",
            "Epoch [    5/   50] | d_loss: 0.9143 | g_loss: 1.3376\n",
            "Epoch [    5/   50] | d_loss: 0.9772 | g_loss: 1.7901\n",
            "Epoch [    5/   50] | d_loss: 0.8999 | g_loss: 1.2459\n",
            "Epoch [    5/   50] | d_loss: 1.7197 | g_loss: 0.7389\n",
            "Epoch [    5/   50] | d_loss: 1.5930 | g_loss: 0.6673\n",
            "Epoch [    5/   50] | d_loss: 1.0117 | g_loss: 0.8943\n",
            "Epoch [    5/   50] | d_loss: 0.8787 | g_loss: 1.4433\n",
            "Epoch [    5/   50] | d_loss: 1.0056 | g_loss: 1.7401\n",
            "Epoch [    5/   50] | d_loss: 1.7400 | g_loss: 0.6851\n",
            "Epoch [    5/   50] | d_loss: 1.0129 | g_loss: 2.0456\n",
            "Epoch [    5/   50] | d_loss: 0.9242 | g_loss: 1.8516\n",
            "Epoch [    5/   50] | d_loss: 1.0361 | g_loss: 0.7943\n",
            "Epoch [    5/   50] | d_loss: 1.0728 | g_loss: 0.9838\n",
            "Epoch [    5/   50] | d_loss: 0.9777 | g_loss: 1.6023\n",
            "Epoch [    6/   50] | d_loss: 0.9618 | g_loss: 0.9805\n",
            "Epoch [    6/   50] | d_loss: 0.9837 | g_loss: 1.4481\n",
            "Epoch [    6/   50] | d_loss: 1.0869 | g_loss: 1.2248\n",
            "Epoch [    6/   50] | d_loss: 1.0400 | g_loss: 2.0614\n",
            "Epoch [    6/   50] | d_loss: 0.9609 | g_loss: 0.9692\n",
            "Epoch [    6/   50] | d_loss: 0.9508 | g_loss: 1.2516\n",
            "Epoch [    6/   50] | d_loss: 0.8992 | g_loss: 1.5107\n",
            "Epoch [    6/   50] | d_loss: 0.9431 | g_loss: 1.0984\n",
            "Epoch [    6/   50] | d_loss: 1.6010 | g_loss: 3.0646\n",
            "Epoch [    6/   50] | d_loss: 0.9004 | g_loss: 1.1143\n",
            "Epoch [    6/   50] | d_loss: 1.0178 | g_loss: 1.5041\n",
            "Epoch [    6/   50] | d_loss: 0.9218 | g_loss: 1.2421\n",
            "Epoch [    6/   50] | d_loss: 0.9405 | g_loss: 1.0334\n",
            "Epoch [    6/   50] | d_loss: 0.8770 | g_loss: 1.2630\n",
            "Epoch [    6/   50] | d_loss: 0.9910 | g_loss: 1.3136\n",
            "Epoch [    7/   50] | d_loss: 0.9994 | g_loss: 1.7854\n",
            "Epoch [    7/   50] | d_loss: 0.9120 | g_loss: 1.4868\n",
            "Epoch [    7/   50] | d_loss: 0.9665 | g_loss: 0.9258\n",
            "Epoch [    7/   50] | d_loss: 1.3915 | g_loss: 0.7975\n",
            "Epoch [    7/   50] | d_loss: 0.8287 | g_loss: 2.4726\n",
            "Epoch [    7/   50] | d_loss: 0.9393 | g_loss: 0.9713\n",
            "Epoch [    7/   50] | d_loss: 0.9150 | g_loss: 1.1426\n",
            "Epoch [    7/   50] | d_loss: 1.0065 | g_loss: 1.0674\n",
            "Epoch [    7/   50] | d_loss: 1.2024 | g_loss: 0.6419\n",
            "Epoch [    7/   50] | d_loss: 0.9402 | g_loss: 2.0255\n",
            "Epoch [    7/   50] | d_loss: 0.7852 | g_loss: 1.4905\n",
            "Epoch [    7/   50] | d_loss: 0.8822 | g_loss: 2.0495\n",
            "Epoch [    7/   50] | d_loss: 0.8476 | g_loss: 1.4241\n",
            "Epoch [    7/   50] | d_loss: 0.8478 | g_loss: 1.5407\n",
            "Epoch [    7/   50] | d_loss: 0.9511 | g_loss: 1.8278\n",
            "Epoch [    8/   50] | d_loss: 1.0937 | g_loss: 0.8388\n",
            "Epoch [    8/   50] | d_loss: 0.9096 | g_loss: 1.9082\n",
            "Epoch [    8/   50] | d_loss: 0.8643 | g_loss: 1.5532\n",
            "Epoch [    8/   50] | d_loss: 1.6143 | g_loss: 0.5705\n",
            "Epoch [    8/   50] | d_loss: 0.8936 | g_loss: 1.5022\n",
            "Epoch [    8/   50] | d_loss: 1.8197 | g_loss: 2.8676\n",
            "Epoch [    8/   50] | d_loss: 0.9149 | g_loss: 1.0875\n",
            "Epoch [    8/   50] | d_loss: 1.5601 | g_loss: 0.8015\n",
            "Epoch [    8/   50] | d_loss: 0.9668 | g_loss: 1.0904\n",
            "Epoch [    8/   50] | d_loss: 0.8048 | g_loss: 1.4715\n",
            "Epoch [    8/   50] | d_loss: 0.7592 | g_loss: 1.7845\n",
            "Epoch [    8/   50] | d_loss: 1.2615 | g_loss: 1.9817\n",
            "Epoch [    8/   50] | d_loss: 0.7435 | g_loss: 1.9672\n",
            "Epoch [    8/   50] | d_loss: 1.0909 | g_loss: 0.9338\n",
            "Epoch [    8/   50] | d_loss: 0.9102 | g_loss: 2.3241\n",
            "Epoch [    9/   50] | d_loss: 0.8814 | g_loss: 1.1957\n",
            "Epoch [    9/   50] | d_loss: 0.7449 | g_loss: 1.2941\n",
            "Epoch [    9/   50] | d_loss: 0.7655 | g_loss: 1.4479\n",
            "Epoch [    9/   50] | d_loss: 0.8142 | g_loss: 2.0330\n",
            "Epoch [    9/   50] | d_loss: 0.8330 | g_loss: 1.8863\n",
            "Epoch [    9/   50] | d_loss: 0.9716 | g_loss: 2.1823\n",
            "Epoch [    9/   50] | d_loss: 0.9978 | g_loss: 2.4699\n",
            "Epoch [    9/   50] | d_loss: 0.8101 | g_loss: 1.0758\n",
            "Epoch [    9/   50] | d_loss: 0.8404 | g_loss: 1.1181\n",
            "Epoch [    9/   50] | d_loss: 0.8302 | g_loss: 1.5218\n",
            "Epoch [    9/   50] | d_loss: 1.0635 | g_loss: 2.6923\n",
            "Epoch [    9/   50] | d_loss: 0.7023 | g_loss: 1.6943\n",
            "Epoch [    9/   50] | d_loss: 1.2702 | g_loss: 0.8525\n",
            "Epoch [    9/   50] | d_loss: 0.7500 | g_loss: 1.3038\n",
            "Epoch [    9/   50] | d_loss: 1.0523 | g_loss: 2.8355\n",
            "Epoch [   10/   50] | d_loss: 1.3469 | g_loss: 0.7815\n",
            "Epoch [   10/   50] | d_loss: 0.7066 | g_loss: 1.4991\n",
            "Epoch [   10/   50] | d_loss: 0.6344 | g_loss: 1.4723\n",
            "Epoch [   10/   50] | d_loss: 0.9005 | g_loss: 1.2107\n",
            "Epoch [   10/   50] | d_loss: 0.7593 | g_loss: 1.5944\n",
            "Epoch [   10/   50] | d_loss: 1.7110 | g_loss: 0.5808\n",
            "Epoch [   10/   50] | d_loss: 0.7234 | g_loss: 1.8090\n",
            "Epoch [   10/   50] | d_loss: 0.9079 | g_loss: 2.8362\n",
            "Epoch [   10/   50] | d_loss: 0.8156 | g_loss: 2.3592\n",
            "Epoch [   10/   50] | d_loss: 1.4995 | g_loss: 0.9118\n",
            "Epoch [   10/   50] | d_loss: 0.7335 | g_loss: 1.8176\n",
            "Epoch [   10/   50] | d_loss: 0.8760 | g_loss: 2.2495\n",
            "Epoch [   10/   50] | d_loss: 1.0343 | g_loss: 0.8949\n",
            "Epoch [   10/   50] | d_loss: 0.6613 | g_loss: 2.2200\n",
            "Epoch [   10/   50] | d_loss: 0.6688 | g_loss: 2.2469\n",
            "Epoch [   11/   50] | d_loss: 0.9121 | g_loss: 1.2693\n",
            "Epoch [   11/   50] | d_loss: 1.1682 | g_loss: 0.8553\n",
            "Epoch [   11/   50] | d_loss: 0.7136 | g_loss: 1.8754\n",
            "Epoch [   11/   50] | d_loss: 1.2263 | g_loss: 0.9057\n",
            "Epoch [   11/   50] | d_loss: 1.0015 | g_loss: 0.8147\n",
            "Epoch [   11/   50] | d_loss: 0.6920 | g_loss: 2.0552\n",
            "Epoch [   11/   50] | d_loss: 0.7345 | g_loss: 2.2784\n",
            "Epoch [   11/   50] | d_loss: 0.5365 | g_loss: 1.9876\n",
            "Epoch [   11/   50] | d_loss: 3.4224 | g_loss: 0.4533\n",
            "Epoch [   11/   50] | d_loss: 0.7869 | g_loss: 1.3380\n",
            "Epoch [   11/   50] | d_loss: 0.7016 | g_loss: 1.3035\n",
            "Epoch [   11/   50] | d_loss: 0.7539 | g_loss: 2.1547\n",
            "Epoch [   11/   50] | d_loss: 0.6838 | g_loss: 2.4287\n",
            "Epoch [   11/   50] | d_loss: 0.5852 | g_loss: 1.7373\n",
            "Epoch [   11/   50] | d_loss: 0.7432 | g_loss: 1.6699\n",
            "Epoch [   12/   50] | d_loss: 0.6709 | g_loss: 1.2923\n",
            "Epoch [   12/   50] | d_loss: 0.7257 | g_loss: 1.8280\n",
            "Epoch [   12/   50] | d_loss: 0.5357 | g_loss: 1.4921\n",
            "Epoch [   12/   50] | d_loss: 1.0357 | g_loss: 1.6167\n",
            "Epoch [   12/   50] | d_loss: 0.7288 | g_loss: 1.5497\n",
            "Epoch [   12/   50] | d_loss: 0.9305 | g_loss: 2.5235\n",
            "Epoch [   12/   50] | d_loss: 0.5826 | g_loss: 1.8412\n",
            "Epoch [   12/   50] | d_loss: 0.8433 | g_loss: 1.1413\n",
            "Epoch [   12/   50] | d_loss: 0.6793 | g_loss: 1.6507\n",
            "Epoch [   12/   50] | d_loss: 0.9592 | g_loss: 3.0026\n",
            "Epoch [   12/   50] | d_loss: 0.7125 | g_loss: 2.6860\n",
            "Epoch [   12/   50] | d_loss: 0.6925 | g_loss: 2.3616\n",
            "Epoch [   12/   50] | d_loss: 0.6230 | g_loss: 2.0543\n",
            "Epoch [   12/   50] | d_loss: 0.6525 | g_loss: 1.3995\n",
            "Epoch [   12/   50] | d_loss: 0.8446 | g_loss: 2.2464\n",
            "Epoch [   13/   50] | d_loss: 0.5995 | g_loss: 1.5944\n",
            "Epoch [   13/   50] | d_loss: 0.7548 | g_loss: 1.6439\n",
            "Epoch [   13/   50] | d_loss: 1.0230 | g_loss: 0.8926\n",
            "Epoch [   13/   50] | d_loss: 0.9994 | g_loss: 0.8340\n",
            "Epoch [   13/   50] | d_loss: 0.6600 | g_loss: 2.3762\n",
            "Epoch [   13/   50] | d_loss: 0.9052 | g_loss: 0.9583\n",
            "Epoch [   13/   50] | d_loss: 0.6061 | g_loss: 2.2063\n",
            "Epoch [   13/   50] | d_loss: 0.8196 | g_loss: 3.1426\n",
            "Epoch [   13/   50] | d_loss: 0.7564 | g_loss: 2.9042\n",
            "Epoch [   13/   50] | d_loss: 0.6935 | g_loss: 2.2764\n",
            "Epoch [   13/   50] | d_loss: 0.9941 | g_loss: 0.8081\n",
            "Epoch [   13/   50] | d_loss: 1.4700 | g_loss: 3.5654\n",
            "Epoch [   13/   50] | d_loss: 0.6638 | g_loss: 1.5457\n",
            "Epoch [   13/   50] | d_loss: 0.5829 | g_loss: 2.0060\n",
            "Epoch [   13/   50] | d_loss: 0.6174 | g_loss: 2.0749\n",
            "Epoch [   14/   50] | d_loss: 0.6912 | g_loss: 2.3284\n",
            "Epoch [   14/   50] | d_loss: 0.6526 | g_loss: 2.3121\n",
            "Epoch [   14/   50] | d_loss: 0.7855 | g_loss: 1.4324\n",
            "Epoch [   14/   50] | d_loss: 3.7446 | g_loss: 0.4055\n",
            "Epoch [   14/   50] | d_loss: 0.6818 | g_loss: 1.7809\n",
            "Epoch [   14/   50] | d_loss: 0.6768 | g_loss: 1.6652\n",
            "Epoch [   14/   50] | d_loss: 0.5621 | g_loss: 1.9246\n",
            "Epoch [   14/   50] | d_loss: 0.8994 | g_loss: 0.8939\n",
            "Epoch [   14/   50] | d_loss: 0.6992 | g_loss: 1.5492\n",
            "Epoch [   14/   50] | d_loss: 0.7130 | g_loss: 1.3653\n",
            "Epoch [   14/   50] | d_loss: 0.6002 | g_loss: 2.9912\n",
            "Epoch [   14/   50] | d_loss: 0.6497 | g_loss: 2.0057\n",
            "Epoch [   14/   50] | d_loss: 0.7650 | g_loss: 1.4108\n",
            "Epoch [   14/   50] | d_loss: 0.4891 | g_loss: 2.9300\n",
            "Epoch [   14/   50] | d_loss: 0.7695 | g_loss: 2.4569\n",
            "Epoch [   15/   50] | d_loss: 0.5760 | g_loss: 2.3570\n",
            "Epoch [   15/   50] | d_loss: 0.7297 | g_loss: 1.3670\n",
            "Epoch [   15/   50] | d_loss: 0.5915 | g_loss: 2.8303\n",
            "Epoch [   15/   50] | d_loss: 0.6562 | g_loss: 1.8415\n",
            "Epoch [   15/   50] | d_loss: 0.8813 | g_loss: 0.8700\n",
            "Epoch [   15/   50] | d_loss: 1.0800 | g_loss: 1.1826\n",
            "Epoch [   15/   50] | d_loss: 0.7269 | g_loss: 1.6592\n",
            "Epoch [   15/   50] | d_loss: 0.7188 | g_loss: 1.2154\n",
            "Epoch [   15/   50] | d_loss: 0.9779 | g_loss: 3.0235\n",
            "Epoch [   15/   50] | d_loss: 0.5564 | g_loss: 2.2851\n",
            "Epoch [   15/   50] | d_loss: 0.5605 | g_loss: 2.5828\n",
            "Epoch [   15/   50] | d_loss: 0.8664 | g_loss: 2.7862\n",
            "Epoch [   15/   50] | d_loss: 0.5390 | g_loss: 2.0399\n",
            "Epoch [   15/   50] | d_loss: 0.5188 | g_loss: 2.4658\n",
            "Epoch [   15/   50] | d_loss: 1.6406 | g_loss: 1.0495\n",
            "Epoch [   16/   50] | d_loss: 1.8599 | g_loss: 2.7107\n",
            "Epoch [   16/   50] | d_loss: 0.5740 | g_loss: 1.8678\n",
            "Epoch [   16/   50] | d_loss: 0.5729 | g_loss: 1.7854\n",
            "Epoch [   16/   50] | d_loss: 0.4935 | g_loss: 2.2763\n",
            "Epoch [   16/   50] | d_loss: 0.6624 | g_loss: 2.8088\n",
            "Epoch [   16/   50] | d_loss: 0.7139 | g_loss: 3.1520\n",
            "Epoch [   16/   50] | d_loss: 2.0650 | g_loss: 0.5102\n",
            "Epoch [   16/   50] | d_loss: 0.7301 | g_loss: 1.3372\n",
            "Epoch [   16/   50] | d_loss: 0.5974 | g_loss: 1.5596\n",
            "Epoch [   16/   50] | d_loss: 0.4984 | g_loss: 2.6098\n",
            "Epoch [   16/   50] | d_loss: 0.6501 | g_loss: 1.7467\n",
            "Epoch [   16/   50] | d_loss: 0.7313 | g_loss: 1.2510\n",
            "Epoch [   16/   50] | d_loss: 0.5496 | g_loss: 1.8731\n",
            "Epoch [   16/   50] | d_loss: 0.6810 | g_loss: 1.8063\n",
            "Epoch [   16/   50] | d_loss: 0.5095 | g_loss: 2.0981\n",
            "Epoch [   17/   50] | d_loss: 1.2768 | g_loss: 4.0599\n",
            "Epoch [   17/   50] | d_loss: 0.5394 | g_loss: 3.0044\n",
            "Epoch [   17/   50] | d_loss: 0.6726 | g_loss: 2.7775\n",
            "Epoch [   17/   50] | d_loss: 0.6482 | g_loss: 3.5000\n",
            "Epoch [   17/   50] | d_loss: 0.5691 | g_loss: 2.5208\n",
            "Epoch [   17/   50] | d_loss: 0.4506 | g_loss: 2.7761\n",
            "Epoch [   17/   50] | d_loss: 0.5278 | g_loss: 3.3349\n",
            "Epoch [   17/   50] | d_loss: 0.9801 | g_loss: 1.6736\n",
            "Epoch [   17/   50] | d_loss: 0.4984 | g_loss: 2.5620\n",
            "Epoch [   17/   50] | d_loss: 0.7039 | g_loss: 2.8918\n",
            "Epoch [   17/   50] | d_loss: 0.7044 | g_loss: 3.5303\n",
            "Epoch [   17/   50] | d_loss: 0.6870 | g_loss: 1.7026\n",
            "Epoch [   17/   50] | d_loss: 0.4759 | g_loss: 2.6378\n",
            "Epoch [   17/   50] | d_loss: 0.6249 | g_loss: 2.0938\n",
            "Epoch [   17/   50] | d_loss: 0.5974 | g_loss: 3.4192\n",
            "Epoch [   18/   50] | d_loss: 1.0509 | g_loss: 0.9989\n",
            "Epoch [   18/   50] | d_loss: 0.5506 | g_loss: 2.2522\n",
            "Epoch [   18/   50] | d_loss: 0.7992 | g_loss: 3.3834\n",
            "Epoch [   18/   50] | d_loss: 0.4980 | g_loss: 2.5671\n",
            "Epoch [   18/   50] | d_loss: 0.6250 | g_loss: 3.5377\n",
            "Epoch [   18/   50] | d_loss: 0.6126 | g_loss: 1.8820\n",
            "Epoch [   18/   50] | d_loss: 0.5191 | g_loss: 2.4527\n",
            "Epoch [   18/   50] | d_loss: 0.5327 | g_loss: 2.0820\n",
            "Epoch [   18/   50] | d_loss: 0.5364 | g_loss: 2.3377\n",
            "Epoch [   18/   50] | d_loss: 0.6314 | g_loss: 1.8921\n",
            "Epoch [   18/   50] | d_loss: 0.5527 | g_loss: 2.0129\n",
            "Epoch [   18/   50] | d_loss: 0.6817 | g_loss: 1.7154\n",
            "Epoch [   18/   50] | d_loss: 0.4893 | g_loss: 2.7188\n",
            "Epoch [   18/   50] | d_loss: 0.4485 | g_loss: 3.3154\n",
            "Epoch [   18/   50] | d_loss: 0.4774 | g_loss: 2.3293\n",
            "Epoch [   19/   50] | d_loss: 0.5619 | g_loss: 3.0760\n",
            "Epoch [   19/   50] | d_loss: 0.4429 | g_loss: 3.0960\n",
            "Epoch [   19/   50] | d_loss: 0.4561 | g_loss: 2.9154\n",
            "Epoch [   19/   50] | d_loss: 0.4872 | g_loss: 2.9906\n",
            "Epoch [   19/   50] | d_loss: 0.6917 | g_loss: 1.4881\n",
            "Epoch [   19/   50] | d_loss: 0.8224 | g_loss: 3.3331\n",
            "Epoch [   19/   50] | d_loss: 0.4026 | g_loss: 3.2178\n",
            "Epoch [   19/   50] | d_loss: 0.5916 | g_loss: 2.6972\n",
            "Epoch [   19/   50] | d_loss: 0.5015 | g_loss: 3.2180\n",
            "Epoch [   19/   50] | d_loss: 0.6021 | g_loss: 1.7150\n",
            "Epoch [   19/   50] | d_loss: 0.7538 | g_loss: 3.1013\n",
            "Epoch [   19/   50] | d_loss: 0.4787 | g_loss: 3.2624\n",
            "Epoch [   19/   50] | d_loss: 0.4794 | g_loss: 2.9514\n",
            "Epoch [   19/   50] | d_loss: 0.8252 | g_loss: 0.9983\n",
            "Epoch [   19/   50] | d_loss: 1.9909 | g_loss: 0.4235\n",
            "Epoch [   20/   50] | d_loss: 3.5794 | g_loss: 4.1948\n",
            "Epoch [   20/   50] | d_loss: 0.5626 | g_loss: 2.1712\n",
            "Epoch [   20/   50] | d_loss: 0.5871 | g_loss: 2.2306\n",
            "Epoch [   20/   50] | d_loss: 0.4825 | g_loss: 2.7337\n",
            "Epoch [   20/   50] | d_loss: 0.7096 | g_loss: 2.8330\n",
            "Epoch [   20/   50] | d_loss: 0.5157 | g_loss: 2.7246\n",
            "Epoch [   20/   50] | d_loss: 0.5816 | g_loss: 2.2727\n",
            "Epoch [   20/   50] | d_loss: 1.0877 | g_loss: 1.3057\n",
            "Epoch [   20/   50] | d_loss: 0.6022 | g_loss: 1.8058\n",
            "Epoch [   20/   50] | d_loss: 0.4434 | g_loss: 2.8154\n",
            "Epoch [   20/   50] | d_loss: 0.4148 | g_loss: 3.0395\n",
            "Epoch [   20/   50] | d_loss: 1.2462 | g_loss: 0.9845\n",
            "Epoch [   20/   50] | d_loss: 0.6326 | g_loss: 3.1181\n",
            "Epoch [   20/   50] | d_loss: 0.6441 | g_loss: 3.0809\n",
            "Epoch [   20/   50] | d_loss: 0.5873 | g_loss: 2.5889\n",
            "Epoch [   21/   50] | d_loss: 0.7380 | g_loss: 3.9072\n",
            "Epoch [   21/   50] | d_loss: 0.4560 | g_loss: 2.7357\n",
            "Epoch [   21/   50] | d_loss: 0.4061 | g_loss: 3.9424\n",
            "Epoch [   21/   50] | d_loss: 0.4808 | g_loss: 2.8303\n",
            "Epoch [   21/   50] | d_loss: 0.5571 | g_loss: 3.1680\n",
            "Epoch [   21/   50] | d_loss: 0.4778 | g_loss: 3.0787\n",
            "Epoch [   21/   50] | d_loss: 0.9045 | g_loss: 2.5504\n",
            "Epoch [   21/   50] | d_loss: 0.5250 | g_loss: 2.3290\n",
            "Epoch [   21/   50] | d_loss: 0.8581 | g_loss: 4.7866\n",
            "Epoch [   21/   50] | d_loss: 0.6542 | g_loss: 3.1307\n",
            "Epoch [   21/   50] | d_loss: 0.4712 | g_loss: 2.9696\n",
            "Epoch [   21/   50] | d_loss: 0.5258 | g_loss: 2.5181\n",
            "Epoch [   21/   50] | d_loss: 1.9749 | g_loss: 0.6494\n",
            "Epoch [   21/   50] | d_loss: 0.4117 | g_loss: 3.5327\n",
            "Epoch [   21/   50] | d_loss: 0.7321 | g_loss: 2.8554\n",
            "Epoch [   22/   50] | d_loss: 0.4920 | g_loss: 2.6880\n",
            "Epoch [   22/   50] | d_loss: 0.4595 | g_loss: 3.1907\n",
            "Epoch [   22/   50] | d_loss: 0.8730 | g_loss: 1.4518\n",
            "Epoch [   22/   50] | d_loss: 0.4628 | g_loss: 2.7310\n",
            "Epoch [   22/   50] | d_loss: 0.4383 | g_loss: 3.7349\n",
            "Epoch [   22/   50] | d_loss: 0.4388 | g_loss: 3.1139\n",
            "Epoch [   22/   50] | d_loss: 0.4533 | g_loss: 2.8549\n",
            "Epoch [   22/   50] | d_loss: 0.5167 | g_loss: 2.7014\n",
            "Epoch [   22/   50] | d_loss: 0.5624 | g_loss: 2.4226\n",
            "Epoch [   22/   50] | d_loss: 0.4978 | g_loss: 3.7327\n",
            "Epoch [   22/   50] | d_loss: 0.5288 | g_loss: 2.5151\n",
            "Epoch [   22/   50] | d_loss: 0.4498 | g_loss: 3.2967\n",
            "Epoch [   22/   50] | d_loss: 0.5021 | g_loss: 2.3631\n",
            "Epoch [   22/   50] | d_loss: 0.6450 | g_loss: 3.1164\n",
            "Epoch [   22/   50] | d_loss: 1.2912 | g_loss: 0.7212\n",
            "Epoch [   23/   50] | d_loss: 2.5344 | g_loss: 5.1127\n",
            "Epoch [   23/   50] | d_loss: 0.4475 | g_loss: 3.1412\n",
            "Epoch [   23/   50] | d_loss: 0.6461 | g_loss: 3.9894\n",
            "Epoch [   23/   50] | d_loss: 0.4409 | g_loss: 2.8864\n",
            "Epoch [   23/   50] | d_loss: 0.5369 | g_loss: 3.2535\n",
            "Epoch [   23/   50] | d_loss: 0.3967 | g_loss: 3.3162\n",
            "Epoch [   23/   50] | d_loss: 1.2612 | g_loss: 3.0713\n",
            "Epoch [   23/   50] | d_loss: 0.4655 | g_loss: 2.7380\n",
            "Epoch [   23/   50] | d_loss: 0.6294 | g_loss: 1.6330\n",
            "Epoch [   23/   50] | d_loss: 0.4733 | g_loss: 3.5028\n",
            "Epoch [   23/   50] | d_loss: 0.5062 | g_loss: 2.3575\n",
            "Epoch [   23/   50] | d_loss: 0.4306 | g_loss: 3.6141\n",
            "Epoch [   23/   50] | d_loss: 0.6184 | g_loss: 2.3379\n",
            "Epoch [   23/   50] | d_loss: 0.3736 | g_loss: 4.3212\n",
            "Epoch [   23/   50] | d_loss: 1.1436 | g_loss: 3.1818\n",
            "Epoch [   24/   50] | d_loss: 0.5675 | g_loss: 2.7941\n",
            "Epoch [   24/   50] | d_loss: 0.4344 | g_loss: 3.2143\n",
            "Epoch [   24/   50] | d_loss: 0.5012 | g_loss: 3.0911\n",
            "Epoch [   24/   50] | d_loss: 0.4167 | g_loss: 3.6951\n",
            "Epoch [   24/   50] | d_loss: 0.5622 | g_loss: 2.1677\n",
            "Epoch [   24/   50] | d_loss: 0.4866 | g_loss: 3.1688\n",
            "Epoch [   24/   50] | d_loss: 0.4228 | g_loss: 3.3530\n",
            "Epoch [   24/   50] | d_loss: 0.3922 | g_loss: 3.7873\n"
          ],
          "name": "stdout"
        }
      ]
    },
    {
      "cell_type": "code",
      "metadata": {
        "id": "bnACz3wB-Vdv",
        "colab_type": "code",
        "colab": {}
      },
      "source": [
        "# Tracking results\n",
        "\n",
        "# 1.lr = 0.0002; 50 eps; smooth=True; bias_init=constant 0.0, indent;\n",
        "# Train time 40.4 mins (0.8mins/ep); Loss = d_loss: 0.4624 | g_loss: 3.3449\n",
        "\n",
        "# 2.lr = 0.0002; 50 eps; smooth=False; bias_init=constant 0.0, indent;\n",
        "# Train time 40.0 mins (0.8mins/ep); Loss = d_loss: 0.1971 | g_loss: 2.7291\n",
        "# Comment: worse result on image output\n",
        "\n",
        "# 3.lr = 0.0002; 50 eps; smooth=False; bias_init=fill_(0), indent;\n",
        "# Train time 39.8 mins (0.79mins/ep); Loss = d_loss: 0.1655 | g_loss: 2.1374\n",
        "# Comment: worse result on image output\n",
        "\n",
        "# 4.lr = 0.0002; 50 eps; smooth=False; bias_init=fill_(0), no indent;\n",
        "# Train time  41.6mins (0.8mins/ep); Loss = d_loss: 0.2723 | g_loss: 3.6363\n",
        "# Comment:\n",
        "\n",
        "# 5.lr = 0.0002; 50 eps; smooth=True; bias_init=fill_(0), no indent;\n",
        "# Train time  41.6mins (0.8mins/ep); Loss = d_loss: 0.5245 | g_loss: 2.1717\n",
        "# Comment: worse result on img output, slightly more stable training graph\n",
        "\n",
        "# 6.lr = 0.0002; 50 eps; smooth=True; bias_init=constant 0.0, no indent;\n",
        "# Train time  40.9mins (0.6mins/ep); Loss = d_loss: 0.4684 | g_loss: 2.7637\n",
        "# Comment: \n",
        "\n",
        "# Until here, G&D dims =  32, z_size=100\n",
        "\n",
        "# 7.lr = 0.0002; 50 eps; smooth=True; bias_init=constant 0.0, no indent;\n",
        "# g_dim=64, d_dim=64; z_size=100;\n",
        "# Train time  mins (mins/ep); Loss = d_loss: \n",
        "# Comment: data not noted. Imaage output fine, chart not so good (?) REPEAT\n",
        "\n",
        "# Until here, only Resize and ToTensor transforms\n",
        "\n",
        "# 8.lr = 0.0002; 50 eps; smooth=True; bias_init=constant 0.0, no indent;\n",
        "# g_dim=64, d_dim=64; z_size=100\n",
        "# Transforms: +CenterCrop\n",
        "# Train time  48.4mins (0.96mins/ep); Loss = d_loss: 0.4551 | g_loss: 3.8745\n",
        "# Comment: Not so bad img output, chart not so good.\n",
        "\n",
        "#  Until here, beta1 = 0.5\n",
        "\n",
        "# 9.lr = 0.0002; 50 eps; smooth=True; bias_init=constant 0.0, no indent;\n",
        "# g_dim=128, d_dim=128; z_size=100; beta1 = 0.2\n",
        "# Transforms: No CenterCrop\n",
        "# Train time ??mins (??mins/ep); Loss = d_loss: 0.3842 | g_loss: 3.7294\n",
        "# Comment: Good img output, not so bad chart.\n",
        "\n",
        "# 10.lr = 0.0002; 50 eps; smooth=True; bias_init=constant 0.0, no indent;\n",
        "# g_dim=64, d_dim=64; z_size=100; beta1 = 0.2\n",
        "# Transforms: No CenterCrop\n",
        "# Train time 46.7mins (0.93mins/ep); Loss = d_loss: 0.6021 | g_loss: 2.3775\n",
        "# Comment: not so bad on chart, horrible img output\n",
        "\n",
        "# 11.lr = 0.0002; 50 eps; smooth=True; bias_init=constant 0.0, no indent;\n",
        "# g_dim=128, d_dim=128; z_size=100; beta1 = 0.2\n",
        "# Transforms: No CenterCrop\n",
        "# + DROPOUT 0.5 in generator\n",
        "# Train time mins (mins/ep); Loss = \n",
        "# Comment: \n",
        "\n",
        "# check weight init again, train with fill_(0)\n",
        "# Train again with dropout, 64 batch size\n",
        "# Train 64 no dropout\n",
        "# Train 128 no dropout, increase beta1\n"
      ],
      "execution_count": 0,
      "outputs": []
    },
    {
      "cell_type": "markdown",
      "metadata": {
        "collapsed": true,
        "id": "rPhZeTSBuG1u",
        "colab_type": "text"
      },
      "source": [
        "## Training loss\n",
        "\n",
        "Plot the training losses for the generator and discriminator, recorded after each epoch."
      ]
    },
    {
      "cell_type": "code",
      "metadata": {
        "id": "DSAtJTMAuG1v",
        "colab_type": "code",
        "colab": {}
      },
      "source": [
        "fig, ax = plt.subplots()\n",
        "losses = np.array(losses)\n",
        "plt.plot(losses.T[0], label='Discriminator', alpha=0.5)\n",
        "plt.plot(losses.T[1], label='Generator', alpha=0.5)\n",
        "plt.title(\"Training Losses\")\n",
        "plt.legend()"
      ],
      "execution_count": 0,
      "outputs": []
    },
    {
      "cell_type": "markdown",
      "metadata": {
        "collapsed": true,
        "id": "_C3lZjb_uG11",
        "colab_type": "text"
      },
      "source": [
        "## Generator samples from training\n",
        "\n",
        "View samples of images from the generator, and answer a question about the strengths and weaknesses of your trained models."
      ]
    },
    {
      "cell_type": "code",
      "metadata": {
        "id": "9kJvus1fuG12",
        "colab_type": "code",
        "colab": {}
      },
      "source": [
        "# helper function for viewing a list of passed in sample images\n",
        "def view_samples(epoch, samples):\n",
        "    fig, axes = plt.subplots(figsize=(16,4), nrows=2, ncols=8, sharey=True, sharex=True)\n",
        "    for ax, img in zip(axes.flatten(), samples[epoch]):\n",
        "        img = img.detach().cpu().numpy()\n",
        "        img = np.transpose(img, (1, 2, 0))\n",
        "        img = ((img + 1)*255 / (2)).astype(np.uint8)\n",
        "        ax.xaxis.set_visible(False)\n",
        "        ax.yaxis.set_visible(False)\n",
        "        im = ax.imshow(img.reshape((32,32,3)))"
      ],
      "execution_count": 0,
      "outputs": []
    },
    {
      "cell_type": "code",
      "metadata": {
        "id": "sGf1LQ9duG1-",
        "colab_type": "code",
        "colab": {}
      },
      "source": [
        "# Load samples from generator, taken while training\n",
        "with open('train_samples.pkl', 'rb') as f:\n",
        "    samples = pkl.load(f)"
      ],
      "execution_count": 0,
      "outputs": []
    },
    {
      "cell_type": "code",
      "metadata": {
        "id": "YMDaeybzuG2D",
        "colab_type": "code",
        "outputId": "4969daf0-03b4-49b0-cf61-c3d7f9c64f54",
        "colab": {
          "base_uri": "https://localhost:8080/",
          "height": 244
        }
      },
      "source": [
        "_ = view_samples(-1, samples)"
      ],
      "execution_count": 0,
      "outputs": [
        {
          "output_type": "display_data",
          "data": {
            "image/png": "[encoded data removed]",
            "text/plain": [
              "<Figure size 1152x288 with 16 Axes>"
            ]
          },
          "metadata": {
            "tags": []
          }
        }
      ]
    },
    {
      "cell_type": "markdown",
      "metadata": {
        "id": "dPcYIBzfuG2H",
        "colab_type": "text"
      },
      "source": [
        "### Question: What do you notice about your generated samples and how might you improve this model?\n",
        "When you answer this question, consider the following factors:\n",
        "* The dataset is biased; it is made of \"celebrity\" faces that are mostly white\n",
        "* Model size; larger models have the opportunity to learn more features in a data feature space\n",
        "* Optimization strategy; optimizers and number of epochs affect your final result\n"
      ]
    },
    {
      "cell_type": "markdown",
      "metadata": {
        "id": "VJudGOxTuG2H",
        "colab_type": "text"
      },
      "source": [
        "**Answer:**\n",
        "\n",
        "**About the generated samples:**\n",
        "\n",
        "After training with 10 different configurations, the images are a long way from being perfect. That said, the model is able to generate faces that pretty much look like faces, with their facial features in the right place for the most part. In some cases, some of the facial features of the source images are recognizeable on the GAN-output images, which I think is an indicator of promising performance.\n",
        "\n",
        "**Points to improve:**\n",
        "\n",
        "As stated above, the train dataset is heavily biased by being composed by \"celebrity faces that are mostly white\". This means one of the key measures to improve the model would be diversifying it across the whole age/gender/race spectrum of humans.\n",
        "\n",
        "Another of the main ways to improve the model would be increasing the density of the model, by adding more layers and increasing the GANs dimensions. The best results were obtained with dimensions of 128, but the model took significantly longer to train than usual, and only for 50 epochs. Working with 64x64 images would probably improve the ouput, but it would also need more computing power.\n",
        "\n",
        "Finally, one of the probable ways of enhancing the performance of the whole model would be trying the solutions proposed by the GanHack github repo (https://github.com/soumith/ganhacks), shared in this Nanodegree´s Slack channel. Although some of the methods proposed to increase training stability have already been used in this project (such as input normalization or label smoothing), other unused solutions include using an SGD optimizer on the discriminator and an keeping the Adam optimizer on the Generator, or adding dropout layers to the generator."
      ]
    },
    {
      "cell_type": "markdown",
      "metadata": {
        "id": "Bc93ki4FuG2J",
        "colab_type": "text"
      },
      "source": [
        "### Submitting This Project\n",
        "When submitting this project, make sure to run all the cells before saving the notebook. Save the notebook file as \"dlnd_face_generation.ipynb\" and save it as a HTML file under \"File\" -> \"Download as\". Include the \"problem_unittests.py\" files in your submission."
      ]
    }
  ]
}